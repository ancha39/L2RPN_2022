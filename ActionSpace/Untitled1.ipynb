{
 "cells": [
  {
   "cell_type": "code",
   "execution_count": 1,
   "id": "4115dbdd-4513-4e35-9937-5c0ba2367a8c",
   "metadata": {},
   "outputs": [],
   "source": [
    "import numpy as np"
   ]
  },
  {
   "cell_type": "code",
   "execution_count": 5,
   "id": "194798f7-e182-4643-984e-1afab37a36be",
   "metadata": {},
   "outputs": [
    {
     "data": {
      "text/plain": [
       "40"
      ]
     },
     "execution_count": 5,
     "metadata": {},
     "output_type": "execute_result"
    }
   ],
   "source": [
    "len(np.load('redispatch_vect_full.pickle', allow_pickle=True))"
   ]
  },
  {
   "cell_type": "code",
   "execution_count": 6,
   "id": "33639217-809c-4596-8794-f3bc02c00d8a",
   "metadata": {},
   "outputs": [],
   "source": [
    "import grid2op\n",
    "from grid2op import make\n",
    "\n",
    "env = make('l2rpn_wcci_2022')"
   ]
  },
  {
   "cell_type": "code",
   "execution_count": 7,
   "id": "e1fbb157-a4c6-48a7-9a16-c45116085b4e",
   "metadata": {},
   "outputs": [],
   "source": [
    "obs = env.reset()"
   ]
  },
  {
   "cell_type": "code",
   "execution_count": null,
   "id": "2f26a7ac-603a-4d37-9521-a7c33cebf968",
   "metadata": {},
   "outputs": [],
   "source": []
  }
 ],
 "metadata": {
  "kernelspec": {
   "display_name": "Python 3",
   "language": "python",
   "name": "python3"
  },
  "language_info": {
   "codemirror_mode": {
    "name": "ipython",
    "version": 3
   },
   "file_extension": ".py",
   "mimetype": "text/x-python",
   "name": "python",
   "nbconvert_exporter": "python",
   "pygments_lexer": "ipython3",
   "version": "3.8.5"
  }
 },
 "nbformat": 4,
 "nbformat_minor": 5
}
