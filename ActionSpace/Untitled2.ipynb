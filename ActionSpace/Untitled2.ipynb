{
 "cells": [
  {
   "cell_type": "code",
   "execution_count": 1,
   "id": "311c5a74-ec68-4dcc-bf82-258922312ded",
   "metadata": {},
   "outputs": [],
   "source": [
    "import numpy as np\n",
    "import grid2op\n",
    "\n",
    "\n",
    "from grid2op import make\n",
    "\n",
    "env = make('l2rpn_wcci_2022')\n",
    "obs = env.reset()"
   ]
  },
  {
   "cell_type": "code",
   "execution_count": 2,
   "id": "79179261-2fe9-44c3-9174-ee343857794a",
   "metadata": {},
   "outputs": [],
   "source": [
    "from copy import deepcopy"
   ]
  },
  {
   "cell_type": "code",
   "execution_count": 10,
   "id": "c16af8bf-abd7-450b-93dd-126b6889ee18",
   "metadata": {},
   "outputs": [],
   "source": [
    "change_status = env.action_space.get_change_line_status_vect()\n",
    "change_status[34] = True\n",
    "# change_status[98] = True\n",
    "action = env.action_space({\"change_line_status\": change_status})  \n"
   ]
  },
  {
   "cell_type": "code",
   "execution_count": 11,
   "id": "ec25a844-6146-4099-be37-258e831faa4c",
   "metadata": {},
   "outputs": [
    {
     "name": "stdout",
     "output_type": "stream",
     "text": [
      "This action will:\n",
      "\t - NOT change anything to the injections\n",
      "\t - NOT perform any redispatching action\n",
      "\t - NOT modify any storage capacity\n",
      "\t - NOT perform any curtailment\n",
      "\t - NOT force any line status\n",
      "\t - Switch status of 1 powerlines ([34])\n",
      "\t - NOT switch anything in the topology\n",
      "\t - NOT force any particular bus configuration\n"
     ]
    }
   ],
   "source": [
    "print(action)"
   ]
  },
  {
   "cell_type": "code",
   "execution_count": 12,
   "id": "4905ec96-44c9-43ef-8e9d-7804852a50e0",
   "metadata": {},
   "outputs": [],
   "source": [
    "sim_obs, rew, done, info = env.step(action)"
   ]
  },
  {
   "cell_type": "code",
   "execution_count": 13,
   "id": "c6437321-bddf-4aa6-bd53-da6ae6ab4eab",
   "metadata": {},
   "outputs": [
    {
     "data": {
      "text/plain": [
       "{'disc_lines': array([-1, -1, -1, -1, -1, -1, -1, -1, -1, -1, -1, -1, -1, -1, -1, -1, -1,\n",
       "        -1, -1, -1, -1, -1, -1, -1, -1, -1, -1, -1, -1, -1, -1, -1, -1, -1,\n",
       "        -1, -1, -1, -1, -1, -1, -1, -1, -1, -1, -1, -1, -1, -1, -1, -1, -1,\n",
       "        -1, -1, -1, -1, -1, -1, -1, -1, -1, -1, -1, -1, -1, -1, -1, -1, -1,\n",
       "        -1, -1, -1, -1, -1, -1, -1, -1, -1, -1, -1, -1, -1, -1, -1, -1, -1,\n",
       "        -1, -1, -1, -1, -1, -1, -1, -1, -1, -1, -1, -1, -1, -1, -1, -1, -1,\n",
       "        -1, -1, -1, -1, -1, -1, -1, -1, -1, -1, -1, -1, -1, -1, -1, -1, -1,\n",
       "        -1, -1, -1, -1, -1, -1, -1, -1, -1, -1, -1, -1, -1, -1, -1, -1, -1,\n",
       "        -1, -1, -1, -1, -1, -1, -1, -1, -1, -1, -1, -1, -1, -1, -1, -1, -1,\n",
       "        -1, -1, -1, -1, -1, -1, -1, -1, -1, -1, -1, -1, -1, -1, -1, -1, -1,\n",
       "        -1, -1, -1, -1, -1, -1, -1, -1, -1, -1, -1, -1, -1, -1, -1, -1],\n",
       "       dtype=int32),\n",
       " 'is_illegal': False,\n",
       " 'is_ambiguous': False,\n",
       " 'is_dispatching_illegal': False,\n",
       " 'is_illegal_reco': False,\n",
       " 'reason_alarm_illegal': None,\n",
       " 'opponent_attack_line': None,\n",
       " 'opponent_attack_sub': None,\n",
       " 'opponent_attack_duration': 0,\n",
       " 'exception': [],\n",
       " 'rewards': {}}"
      ]
     },
     "execution_count": 13,
     "metadata": {},
     "output_type": "execute_result"
    }
   ],
   "source": [
    "info"
   ]
  },
  {
   "cell_type": "code",
   "execution_count": 20,
   "id": "61cf0a22-cef6-4c58-9824-0cd42af13bc6",
   "metadata": {},
   "outputs": [],
   "source": [
    "obs, rew,done, info = env.step(env.action_space({}))"
   ]
  },
  {
   "cell_type": "code",
   "execution_count": 22,
   "id": "eddbcdeb-c59f-40ad-96a4-16cb3b8b11b4",
   "metadata": {},
   "outputs": [
    {
     "data": {
      "text/plain": [
       "{'disc_lines': array([-1, -1, -1, -1, -1, -1, -1, -1, -1, -1, -1, -1, -1, -1, -1, -1, -1,\n",
       "        -1, -1, -1, -1, -1, -1, -1, -1, -1, -1, -1, -1, -1, -1, -1, -1, -1,\n",
       "        -1, -1, -1, -1, -1, -1, -1, -1, -1, -1, -1, -1, -1, -1, -1, -1, -1,\n",
       "        -1, -1, -1, -1, -1, -1, -1, -1, -1, -1, -1, -1, -1, -1, -1, -1, -1,\n",
       "        -1, -1, -1, -1, -1, -1, -1, -1, -1, -1, -1, -1, -1, -1, -1, -1, -1,\n",
       "        -1, -1, -1, -1, -1, -1, -1, -1, -1, -1, -1, -1, -1, -1, -1, -1, -1,\n",
       "        -1, -1, -1, -1, -1, -1, -1, -1, -1, -1, -1, -1, -1, -1, -1, -1, -1,\n",
       "        -1, -1, -1, -1, -1, -1, -1, -1, -1, -1, -1, -1, -1, -1, -1, -1, -1,\n",
       "        -1, -1, -1, -1, -1, -1, -1, -1, -1, -1, -1, -1, -1, -1, -1, -1, -1,\n",
       "        -1, -1, -1, -1, -1, -1, -1, -1, -1, -1, -1, -1, -1, -1, -1, -1, -1,\n",
       "        -1, -1, -1, -1, -1, -1, -1, -1, -1, -1, -1, -1, -1, -1, -1, -1],\n",
       "       dtype=int32),\n",
       " 'is_illegal': False,\n",
       " 'is_ambiguous': False,\n",
       " 'is_dispatching_illegal': False,\n",
       " 'is_illegal_reco': False,\n",
       " 'reason_alarm_illegal': None,\n",
       " 'opponent_attack_line': None,\n",
       " 'opponent_attack_sub': None,\n",
       " 'opponent_attack_duration': 0,\n",
       " 'exception': [],\n",
       " 'rewards': {}}"
      ]
     },
     "execution_count": 22,
     "metadata": {},
     "output_type": "execute_result"
    }
   ],
   "source": [
    "info"
   ]
  },
  {
   "cell_type": "code",
   "execution_count": 23,
   "id": "544546bc-1142-4bc8-897e-10bbbf02f8ea",
   "metadata": {},
   "outputs": [
    {
     "data": {
      "text/plain": [
       "array([ True,  True,  True,  True,  True,  True,  True,  True,  True,\n",
       "        True,  True,  True,  True,  True,  True,  True,  True,  True,\n",
       "        True,  True,  True,  True,  True,  True,  True,  True,  True,\n",
       "        True,  True,  True,  True,  True,  True,  True, False,  True,\n",
       "        True,  True,  True,  True,  True,  True,  True,  True,  True,\n",
       "        True,  True,  True,  True,  True,  True,  True,  True,  True,\n",
       "        True,  True,  True,  True,  True,  True,  True,  True,  True,\n",
       "        True,  True,  True,  True,  True,  True,  True,  True,  True,\n",
       "        True,  True,  True,  True,  True,  True,  True,  True,  True,\n",
       "        True,  True,  True,  True,  True,  True,  True,  True,  True,\n",
       "        True,  True,  True,  True,  True,  True,  True,  True,  True,\n",
       "        True,  True,  True,  True,  True,  True,  True,  True,  True,\n",
       "        True,  True,  True,  True,  True,  True,  True,  True,  True,\n",
       "        True,  True,  True,  True,  True,  True,  True,  True,  True,\n",
       "        True,  True,  True,  True,  True,  True,  True,  True,  True,\n",
       "        True,  True,  True,  True,  True,  True,  True,  True,  True,\n",
       "        True,  True,  True,  True,  True,  True,  True,  True,  True,\n",
       "        True,  True,  True,  True,  True,  True,  True,  True,  True,\n",
       "        True,  True,  True,  True,  True,  True,  True,  True,  True,\n",
       "        True,  True,  True,  True,  True,  True,  True,  True,  True,\n",
       "        True,  True,  True,  True,  True,  True])"
      ]
     },
     "execution_count": 23,
     "metadata": {},
     "output_type": "execute_result"
    }
   ],
   "source": [
    "obs.line_status"
   ]
  },
  {
   "cell_type": "code",
   "execution_count": 24,
   "id": "ad9f5804-e9f1-4e67-8496-7c82b19b215f",
   "metadata": {},
   "outputs": [],
   "source": [
    "change_status = env.action_space.get_change_line_status_vect()\n",
    "change_status[34] = True\n",
    "change_status[98] = True\n",
    "action = env.action_space({\"change_line_status\": change_status})  \n"
   ]
  },
  {
   "cell_type": "code",
   "execution_count": 25,
   "id": "aa9fa4ae-fed2-4675-8baf-27adcbafba63",
   "metadata": {},
   "outputs": [],
   "source": [
    "sim_obs, rew, done, info = obs.simulate(action)"
   ]
  },
  {
   "cell_type": "code",
   "execution_count": 26,
   "id": "57c64a6d-734e-4c3f-823b-0f80454fca46",
   "metadata": {},
   "outputs": [
    {
     "data": {
      "text/plain": [
       "{'disc_lines': array([-1, -1, -1, -1, -1, -1, -1, -1, -1, -1, -1, -1, -1, -1, -1, -1, -1,\n",
       "        -1, -1, -1, -1, -1, -1, -1, -1, -1, -1, -1, -1, -1, -1, -1, -1, -1,\n",
       "        -1, -1, -1, -1, -1, -1, -1, -1, -1, -1, -1, -1, -1, -1, -1, -1, -1,\n",
       "        -1, -1, -1, -1, -1, -1, -1, -1, -1, -1, -1, -1, -1, -1, -1, -1, -1,\n",
       "        -1, -1, -1, -1, -1, -1, -1, -1, -1, -1, -1, -1, -1, -1, -1, -1, -1,\n",
       "        -1, -1, -1, -1, -1, -1, -1, -1, -1, -1, -1, -1, -1, -1, -1, -1, -1,\n",
       "        -1, -1, -1, -1, -1, -1, -1, -1, -1, -1, -1, -1, -1, -1, -1, -1, -1,\n",
       "        -1, -1, -1, -1, -1, -1, -1, -1, -1, -1, -1, -1, -1, -1, -1, -1, -1,\n",
       "        -1, -1, -1, -1, -1, -1, -1, -1, -1, -1, -1, -1, -1, -1, -1, -1, -1,\n",
       "        -1, -1, -1, -1, -1, -1, -1, -1, -1, -1, -1, -1, -1, -1, -1, -1, -1,\n",
       "        -1, -1, -1, -1, -1, -1, -1, -1, -1, -1, -1, -1, -1, -1, -1, -1],\n",
       "       dtype=int32),\n",
       " 'is_illegal': True,\n",
       " 'is_ambiguous': False,\n",
       " 'is_dispatching_illegal': False,\n",
       " 'is_illegal_reco': False,\n",
       " 'reason_alarm_illegal': None,\n",
       " 'opponent_attack_line': None,\n",
       " 'opponent_attack_sub': None,\n",
       " 'opponent_attack_duration': 0,\n",
       " 'exception': [Grid2OpException IllegalAction IllegalAction('More than 1 line status affected by the action: [34 98]')],\n",
       " 'rewards': {}}"
      ]
     },
     "execution_count": 26,
     "metadata": {},
     "output_type": "execute_result"
    }
   ],
   "source": [
    "info"
   ]
  },
  {
   "cell_type": "code",
   "execution_count": null,
   "id": "90e76fb1-78bd-45fa-8638-82fbcbd0a239",
   "metadata": {},
   "outputs": [],
   "source": []
  }
 ],
 "metadata": {
  "kernelspec": {
   "display_name": "Python 3",
   "language": "python",
   "name": "python3"
  },
  "language_info": {
   "codemirror_mode": {
    "name": "ipython",
    "version": 3
   },
   "file_extension": ".py",
   "mimetype": "text/x-python",
   "name": "python",
   "nbconvert_exporter": "python",
   "pygments_lexer": "ipython3",
   "version": "3.8.5"
  }
 },
 "nbformat": 4,
 "nbformat_minor": 5
}
