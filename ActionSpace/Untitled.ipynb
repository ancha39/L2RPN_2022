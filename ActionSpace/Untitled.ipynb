{
 "cells": [
  {
   "cell_type": "code",
   "execution_count": 1,
   "id": "73eb6cdd-f75d-4ecd-84cc-3c253a2ae6ba",
   "metadata": {},
   "outputs": [],
   "source": [
    "import numpy as np"
   ]
  },
  {
   "cell_type": "code",
   "execution_count": 4,
   "id": "1d3225ba-fe8e-44fd-a98b-a000fe42322f",
   "metadata": {},
   "outputs": [],
   "source": [
    "redis_acts = []\n"
   ]
  },
  {
   "cell_type": "code",
   "execution_count": 20,
   "id": "133697cd-e7cc-4560-905f-96e45c8fbc47",
   "metadata": {},
   "outputs": [],
   "source": [
    "for i in redispatch_acts:\n",
    "    redis_acts.append(i.to_vect())"
   ]
  },
  {
   "cell_type": "code",
   "execution_count": 21,
   "id": "80a691b0-e8d6-4f00-a0ec-8cd26dfad245",
   "metadata": {
    "collapsed": true,
    "jupyter": {
     "outputs_hidden": true
    },
    "tags": []
   },
   "outputs": [
    {
     "data": {
      "text/plain": [
       "[array([ 0.,  0.,  0., ..., -1., -1., -1.], dtype=float32),\n",
       " array([ 0.,  0.,  0., ..., -1., -1., -1.], dtype=float32),\n",
       " array([ 0.,  0.,  0., ..., -1., -1., -1.], dtype=float32),\n",
       " array([ 0.,  0.,  0., ..., -1., -1., -1.], dtype=float32),\n",
       " array([ 0.,  0.,  0., ..., -1., -1., -1.], dtype=float32),\n",
       " array([ 0.,  0.,  0., ..., -1., -1., -1.], dtype=float32),\n",
       " array([ 0.,  0.,  0., ..., -1., -1., -1.], dtype=float32),\n",
       " array([ 0.,  0.,  0., ..., -1., -1., -1.], dtype=float32),\n",
       " array([ 0.,  0.,  0., ..., -1., -1., -1.], dtype=float32),\n",
       " array([ 0.,  0.,  0., ..., -1., -1., -1.], dtype=float32),\n",
       " array([ 0.,  0.,  0., ..., -1., -1., -1.], dtype=float32),\n",
       " array([ 0.,  0.,  0., ..., -1., -1., -1.], dtype=float32),\n",
       " array([ 0.,  0.,  0., ..., -1., -1., -1.], dtype=float32),\n",
       " array([ 0.,  0.,  0., ..., -1., -1., -1.], dtype=float32),\n",
       " array([ 0.,  0.,  0., ..., -1., -1., -1.], dtype=float32),\n",
       " array([ 0.,  0.,  0., ..., -1., -1., -1.], dtype=float32),\n",
       " array([ 0.,  0.,  0., ..., -1., -1., -1.], dtype=float32),\n",
       " array([ 0.,  0.,  0., ..., -1., -1., -1.], dtype=float32),\n",
       " array([ 0.,  0.,  0., ..., -1., -1., -1.], dtype=float32),\n",
       " array([ 0.,  0.,  0., ..., -1., -1., -1.], dtype=float32),\n",
       " array([ 0.,  0.,  0., ..., -1., -1., -1.], dtype=float32),\n",
       " array([ 0.,  0.,  0., ..., -1., -1., -1.], dtype=float32),\n",
       " array([ 0.,  0.,  0., ..., -1., -1., -1.], dtype=float32),\n",
       " array([ 0.,  0.,  0., ..., -1., -1., -1.], dtype=float32),\n",
       " array([ 0.,  0.,  0., ..., -1., -1., -1.], dtype=float32),\n",
       " array([ 0.,  0.,  0., ..., -1., -1., -1.], dtype=float32),\n",
       " array([ 0.,  0.,  0., ..., -1., -1., -1.], dtype=float32),\n",
       " array([ 0.,  0.,  0., ..., -1., -1., -1.], dtype=float32),\n",
       " array([ 0.,  0.,  0., ..., -1., -1., -1.], dtype=float32),\n",
       " array([ 0.,  0.,  0., ..., -1., -1., -1.], dtype=float32),\n",
       " array([ 0.,  0.,  0., ..., -1., -1., -1.], dtype=float32),\n",
       " array([ 0.,  0.,  0., ..., -1., -1., -1.], dtype=float32),\n",
       " array([ 0.,  0.,  0., ..., -1., -1., -1.], dtype=float32),\n",
       " array([ 0.,  0.,  0., ..., -1., -1., -1.], dtype=float32),\n",
       " array([ 0.,  0.,  0., ..., -1., -1., -1.], dtype=float32),\n",
       " array([ 0.,  0.,  0., ..., -1., -1., -1.], dtype=float32),\n",
       " array([ 0.,  0.,  0., ..., -1., -1., -1.], dtype=float32),\n",
       " array([ 0.,  0.,  0., ..., -1., -1., -1.], dtype=float32),\n",
       " array([ 0.,  0.,  0., ..., -1., -1., -1.], dtype=float32),\n",
       " array([ 0.,  0.,  0., ..., -1., -1., -1.], dtype=float32),\n",
       " array([ 0.,  0.,  0., ..., -1., -1., -1.], dtype=float32),\n",
       " array([ 0.,  0.,  0., ..., -1., -1., -1.], dtype=float32),\n",
       " array([ 0.,  0.,  0., ..., -1., -1., -1.], dtype=float32),\n",
       " array([ 0.,  0.,  0., ..., -1., -1., -1.], dtype=float32),\n",
       " array([ 0.,  0.,  0., ..., -1., -1., -1.], dtype=float32),\n",
       " array([ 0.,  0.,  0., ..., -1., -1., -1.], dtype=float32),\n",
       " array([ 0.,  0.,  0., ..., -1., -1., -1.], dtype=float32),\n",
       " array([ 0.,  0.,  0., ..., -1., -1., -1.], dtype=float32),\n",
       " array([ 0.,  0.,  0., ..., -1., -1., -1.], dtype=float32),\n",
       " array([ 0.,  0.,  0., ..., -1., -1., -1.], dtype=float32),\n",
       " array([ 0.,  0.,  0., ..., -1., -1., -1.], dtype=float32),\n",
       " array([ 0.,  0.,  0., ..., -1., -1., -1.], dtype=float32),\n",
       " array([ 0.,  0.,  0., ..., -1., -1., -1.], dtype=float32),\n",
       " array([ 0.,  0.,  0., ..., -1., -1., -1.], dtype=float32),\n",
       " array([ 0.,  0.,  0., ..., -1., -1., -1.], dtype=float32),\n",
       " array([ 0.,  0.,  0., ..., -1., -1., -1.], dtype=float32),\n",
       " array([ 0.,  0.,  0., ..., -1., -1., -1.], dtype=float32),\n",
       " array([ 0.,  0.,  0., ..., -1., -1., -1.], dtype=float32),\n",
       " array([ 0.,  0.,  0., ..., -1., -1., -1.], dtype=float32),\n",
       " array([ 0.,  0.,  0., ..., -1., -1., -1.], dtype=float32),\n",
       " array([ 0.,  0.,  0., ..., -1., -1., -1.], dtype=float32),\n",
       " array([ 0.,  0.,  0., ..., -1., -1., -1.], dtype=float32),\n",
       " array([ 0.,  0.,  0., ..., -1., -1., -1.], dtype=float32),\n",
       " array([ 0.,  0.,  0., ..., -1., -1., -1.], dtype=float32),\n",
       " array([ 0.,  0.,  0., ..., -1., -1., -1.], dtype=float32),\n",
       " array([ 0.,  0.,  0., ..., -1., -1., -1.], dtype=float32),\n",
       " array([ 0.,  0.,  0., ..., -1., -1., -1.], dtype=float32),\n",
       " array([ 0.,  0.,  0., ..., -1., -1., -1.], dtype=float32),\n",
       " array([ 0.,  0.,  0., ..., -1., -1., -1.], dtype=float32),\n",
       " array([ 0.,  0.,  0., ..., -1., -1., -1.], dtype=float32),\n",
       " array([ 0.,  0.,  0., ..., -1., -1., -1.], dtype=float32),\n",
       " array([ 0.,  0.,  0., ..., -1., -1., -1.], dtype=float32),\n",
       " array([ 0.,  0.,  0., ..., -1., -1., -1.], dtype=float32),\n",
       " array([ 0.,  0.,  0., ..., -1., -1., -1.], dtype=float32),\n",
       " array([ 0.,  0.,  0., ..., -1., -1., -1.], dtype=float32),\n",
       " array([ 0.,  0.,  0., ..., -1., -1., -1.], dtype=float32),\n",
       " array([ 0.,  0.,  0., ..., -1., -1., -1.], dtype=float32),\n",
       " array([ 0.,  0.,  0., ..., -1., -1., -1.], dtype=float32),\n",
       " array([ 0.,  0.,  0., ..., -1., -1., -1.], dtype=float32),\n",
       " array([ 0.,  0.,  0., ..., -1., -1., -1.], dtype=float32)]"
      ]
     },
     "execution_count": 21,
     "metadata": {},
     "output_type": "execute_result"
    }
   ],
   "source": [
    "redis_acts"
   ]
  },
  {
   "cell_type": "code",
   "execution_count": 5,
   "id": "1653b043-6d05-4c0b-bd62-f2766c836641",
   "metadata": {},
   "outputs": [
    {
     "name": "stderr",
     "output_type": "stream",
     "text": [
      "error uploading: HTTPSConnectionPool(host='api.segment.io', port=443): Max retries exceeded with url: /v1/batch (Caused by SSLError(SSLCertVerificationError(1, '[SSL: CERTIFICATE_VERIFY_FAILED] certificate verify failed: unable to get local issuer certificate (_ssl.c:1123)')))\n"
     ]
    }
   ],
   "source": [
    "import grid2op\n",
    "from grid2op import make\n",
    "\n",
    "env = make('l2rpn_wcci_2022')\n",
    "obs = env.reset()"
   ]
  },
  {
   "cell_type": "code",
   "execution_count": 19,
   "id": "8026cbce-aff4-48a5-a337-31197b049717",
   "metadata": {},
   "outputs": [],
   "source": [
    "def get_available_dispatch_actions( observation):\n",
    "    action_array = []\n",
    "    max_up = env.action_space.gen_max_ramp_up\n",
    "    max_down = env.action_space.gen_max_ramp_down\n",
    "    for i in range(len(max_up)):\n",
    "        if max_up[i] != 0:\n",
    "            action = env.action_space({\"redispatch\": [(i, -max_down[i])]})\n",
    "            action_array.append(action)\n",
    "            action = env.action_space({\"redispatch\": [(i, +max_up[i])]})\n",
    "            action_array.append(action)\n",
    "            \n",
    "            \n",
    "            action = env.action_space({\"redispatch\": [(i, -max_down[i]/4)]})\n",
    "            action_array.append(action)\n",
    "            action = env.action_space({\"redispatch\": [(i, +max_up[i]/4)]})\n",
    "            action_array.append(action)\n",
    "    return action_array"
   ]
  },
  {
   "cell_type": "code",
   "execution_count": 20,
   "id": "5fcc0727-b3f9-4788-abb2-c7170bdbffa2",
   "metadata": {},
   "outputs": [],
   "source": [
    "redispat_act = get_available_dispatch_actions(obs)"
   ]
  },
  {
   "cell_type": "code",
   "execution_count": 21,
   "id": "f6c9004f-4ac1-4fc3-8790-a462de7bfb21",
   "metadata": {},
   "outputs": [],
   "source": [
    "obs = env.reset()"
   ]
  },
  {
   "cell_type": "code",
   "execution_count": 22,
   "id": "67f7782d-05eb-48ca-91b8-f44b03ac07e8",
   "metadata": {},
   "outputs": [
    {
     "data": {
      "text/plain": [
       "80"
      ]
     },
     "execution_count": 22,
     "metadata": {},
     "output_type": "execute_result"
    }
   ],
   "source": [
    "len(redispat_act)"
   ]
  },
  {
   "cell_type": "code",
   "execution_count": 23,
   "id": "bb8d11e9-57c2-46b8-9afa-c4982f4bc5db",
   "metadata": {},
   "outputs": [],
   "source": [
    "redis_acts = []"
   ]
  },
  {
   "cell_type": "code",
   "execution_count": 24,
   "id": "3100d700-941a-4cd6-884b-067da401f809",
   "metadata": {},
   "outputs": [],
   "source": [
    "for i in redispat_act:\n",
    "    redis_acts.append(i.to_vect())"
   ]
  },
  {
   "cell_type": "code",
   "execution_count": 25,
   "id": "b5d5f69b-199f-451d-b61d-fe0f3171da31",
   "metadata": {},
   "outputs": [
    {
     "data": {
      "text/plain": [
       "80"
      ]
     },
     "execution_count": 25,
     "metadata": {},
     "output_type": "execute_result"
    }
   ],
   "source": [
    "len(redis_acts)"
   ]
  },
  {
   "cell_type": "code",
   "execution_count": 26,
   "id": "000ddde9-3131-4309-bcdc-1e0bbff7b618",
   "metadata": {},
   "outputs": [],
   "source": [
    "import pickle\n",
    "\n",
    "file_in = open('redispatch_vect_full_by_four.pickle', 'wb')\n",
    "pickle.dump(redis_acts, file_in)\n",
    "file_in.close()"
   ]
  },
  {
   "cell_type": "code",
   "execution_count": 32,
   "id": "c089b313-c4ab-43ea-b710-110d333a7794",
   "metadata": {},
   "outputs": [],
   "source": [
    "aa = env.action_space.from_vect(redis_acts[0])"
   ]
  },
  {
   "cell_type": "code",
   "execution_count": 44,
   "id": "9fdff85c-ccc3-49bd-ad9b-cf35913dad65",
   "metadata": {},
   "outputs": [
    {
     "data": {
      "text/plain": [
       "2"
      ]
     },
     "execution_count": 44,
     "metadata": {},
     "output_type": "execute_result"
    }
   ],
   "source": [
    "aa.as_serializable_dict()['redispatch'][0][0]"
   ]
  },
  {
   "cell_type": "code",
   "execution_count": null,
   "id": "d1c289e6-bfc9-4c22-b770-4465164db230",
   "metadata": {},
   "outputs": [],
   "source": []
  },
  {
   "cell_type": "code",
   "execution_count": 6,
   "id": "860c2621-891e-4f81-abf8-dde388fbdd46",
   "metadata": {},
   "outputs": [],
   "source": [
    "import grid2op\n",
    "from grid2op import make\n",
    "\n",
    "env = make('l2rpn_wcci_2022')\n",
    "\n",
    "a = env.action_space({})"
   ]
  },
  {
   "cell_type": "code",
   "execution_count": 8,
   "id": "ce59c3f3-458d-4989-8764-71965ce335fa",
   "metadata": {
    "collapsed": true,
    "jupyter": {
     "outputs_hidden": true
    },
    "tags": []
   },
   "outputs": [
    {
     "name": "stdout",
     "output_type": "stream",
     "text": [
      "This action will:\n",
      "\t - NOT change anything to the injections\n",
      "\t - Modify the generators with redispatching in the following way:\n",
      "\t \t - Redispatch \"gen_7_2\" of -1.75 MW\n",
      "\t - NOT modify any storage capacity\n",
      "\t - NOT perform any curtailment\n",
      "\t - NOT force any line status\n",
      "\t - NOT switch any line status\n",
      "\t - NOT switch anything in the topology\n",
      "\t - NOT force any particular bus configuration\n"
     ]
    },
    {
     "ename": "NameError",
     "evalue": "name 'sys' is not defined",
     "output_type": "error",
     "traceback": [
      "\u001b[0;31m---------------------------------------------------------------------------\u001b[0m",
      "\u001b[0;31mNameError\u001b[0m                                 Traceback (most recent call last)",
      "\u001b[0;32m/tmp/ipykernel_88600/1284678050.py\u001b[0m in \u001b[0;36m<module>\u001b[0;34m\u001b[0m\n\u001b[1;32m      3\u001b[0m \u001b[0;34m\u001b[0m\u001b[0m\n\u001b[1;32m      4\u001b[0m     \u001b[0mprint\u001b[0m\u001b[0;34m(\u001b[0m\u001b[0mk\u001b[0m\u001b[0;34m)\u001b[0m\u001b[0;34m\u001b[0m\u001b[0;34m\u001b[0m\u001b[0m\n\u001b[0;32m----> 5\u001b[0;31m     \u001b[0msys\u001b[0m\u001b[0;34m.\u001b[0m\u001b[0mexit\u001b[0m\u001b[0;34m(\u001b[0m\u001b[0;34m)\u001b[0m\u001b[0;34m\u001b[0m\u001b[0;34m\u001b[0m\u001b[0m\n\u001b[0m",
      "\u001b[0;31mNameError\u001b[0m: name 'sys' is not defined"
     ]
    }
   ],
   "source": [
    "for i in redis_acts:\n",
    "    k = a + env.action_space.from_vect(i)\n",
    "    \n",
    "    print(k)\n",
    "    sys.exit()"
   ]
  },
  {
   "cell_type": "code",
   "execution_count": 1,
   "id": "41f6aed0-6959-436b-9a30-726f9aad38fe",
   "metadata": {},
   "outputs": [],
   "source": [
    "import numpy as np"
   ]
  },
  {
   "cell_type": "code",
   "execution_count": 2,
   "id": "5c90c02b-beb8-45ea-ad74-d611f4364250",
   "metadata": {
    "collapsed": true,
    "jupyter": {
     "outputs_hidden": true
    },
    "tags": []
   },
   "outputs": [
    {
     "data": {
      "text/plain": [
       "[array([ 0.,  0.,  0., ..., -1., -1., -1.], dtype=float32),\n",
       " array([ 0.,  0.,  0., ..., -1., -1., -1.], dtype=float32),\n",
       " array([ 0.,  0.,  0., ..., -1., -1., -1.], dtype=float32),\n",
       " array([ 0.,  0.,  0., ..., -1., -1., -1.], dtype=float32),\n",
       " array([ 0.,  0.,  0., ..., -1., -1., -1.], dtype=float32),\n",
       " array([ 0.,  0.,  0., ..., -1., -1., -1.], dtype=float32),\n",
       " array([ 0.,  0.,  0., ..., -1., -1., -1.], dtype=float32),\n",
       " array([ 0.,  0.,  0., ..., -1., -1., -1.], dtype=float32),\n",
       " array([ 0.,  0.,  0., ..., -1., -1., -1.], dtype=float32),\n",
       " array([ 0.,  0.,  0., ..., -1., -1., -1.], dtype=float32),\n",
       " array([ 0.,  0.,  0., ..., -1., -1., -1.], dtype=float32),\n",
       " array([ 0.,  0.,  0., ..., -1., -1., -1.], dtype=float32),\n",
       " array([ 0.,  0.,  0., ..., -1., -1., -1.], dtype=float32),\n",
       " array([ 0.,  0.,  0., ..., -1., -1., -1.], dtype=float32),\n",
       " array([ 0.,  0.,  0., ..., -1., -1., -1.], dtype=float32),\n",
       " array([ 0.,  0.,  0., ..., -1., -1., -1.], dtype=float32),\n",
       " array([ 0.,  0.,  0., ..., -1., -1., -1.], dtype=float32),\n",
       " array([ 0.,  0.,  0., ..., -1., -1., -1.], dtype=float32),\n",
       " array([ 0.,  0.,  0., ..., -1., -1., -1.], dtype=float32),\n",
       " array([ 0.,  0.,  0., ..., -1., -1., -1.], dtype=float32),\n",
       " array([ 0.,  0.,  0., ..., -1., -1., -1.], dtype=float32),\n",
       " array([ 0.,  0.,  0., ..., -1., -1., -1.], dtype=float32),\n",
       " array([ 0.,  0.,  0., ..., -1., -1., -1.], dtype=float32),\n",
       " array([ 0.,  0.,  0., ..., -1., -1., -1.], dtype=float32),\n",
       " array([ 0.,  0.,  0., ..., -1., -1., -1.], dtype=float32),\n",
       " array([ 0.,  0.,  0., ..., -1., -1., -1.], dtype=float32),\n",
       " array([ 0.,  0.,  0., ..., -1., -1., -1.], dtype=float32),\n",
       " array([ 0.,  0.,  0., ..., -1., -1., -1.], dtype=float32),\n",
       " array([ 0.,  0.,  0., ..., -1., -1., -1.], dtype=float32),\n",
       " array([ 0.,  0.,  0., ..., -1., -1., -1.], dtype=float32),\n",
       " array([ 0.,  0.,  0., ..., -1., -1., -1.], dtype=float32),\n",
       " array([ 0.,  0.,  0., ..., -1., -1., -1.], dtype=float32),\n",
       " array([ 0.,  0.,  0., ..., -1., -1., -1.], dtype=float32),\n",
       " array([ 0.,  0.,  0., ..., -1., -1., -1.], dtype=float32),\n",
       " array([ 0.,  0.,  0., ..., -1., -1., -1.], dtype=float32),\n",
       " array([ 0.,  0.,  0., ..., -1., -1., -1.], dtype=float32),\n",
       " array([ 0.,  0.,  0., ..., -1., -1., -1.], dtype=float32),\n",
       " array([ 0.,  0.,  0., ..., -1., -1., -1.], dtype=float32),\n",
       " array([ 0.,  0.,  0., ..., -1., -1., -1.], dtype=float32),\n",
       " array([ 0.,  0.,  0., ..., -1., -1., -1.], dtype=float32)]"
      ]
     },
     "execution_count": 2,
     "metadata": {},
     "output_type": "execute_result"
    }
   ],
   "source": [
    "np.load('redispatch_vect_full.pickle', allow_pickle=True)"
   ]
  },
  {
   "cell_type": "code",
   "execution_count": 3,
   "id": "bfb06474-7d46-439f-96c1-0f4c7ec806a3",
   "metadata": {},
   "outputs": [],
   "source": [
    "import numpy as np"
   ]
  },
  {
   "cell_type": "code",
   "execution_count": 6,
   "id": "6c8369b9-f73b-454d-8171-46b21ec9728b",
   "metadata": {},
   "outputs": [
    {
     "data": {
      "text/plain": [
       "120"
      ]
     },
     "execution_count": 6,
     "metadata": {},
     "output_type": "execute_result"
    }
   ],
   "source": [
    "len(np.load('redispatch_vect.pickle', allow_pickle=True))"
   ]
  },
  {
   "cell_type": "code",
   "execution_count": null,
   "id": "ccebb604-ddf7-4abd-9517-5767f8418b4c",
   "metadata": {},
   "outputs": [],
   "source": []
  }
 ],
 "metadata": {
  "kernelspec": {
   "display_name": "Python 3",
   "language": "python",
   "name": "python3"
  },
  "language_info": {
   "codemirror_mode": {
    "name": "ipython",
    "version": 3
   },
   "file_extension": ".py",
   "mimetype": "text/x-python",
   "name": "python",
   "nbconvert_exporter": "python",
   "pygments_lexer": "ipython3",
   "version": "3.8.5"
  }
 },
 "nbformat": 4,
 "nbformat_minor": 5
}
